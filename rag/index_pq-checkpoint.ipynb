{
 "cells": [
  {
   "cell_type": "code",
   "execution_count": null,
   "metadata": {},
   "outputs": [],
   "source": [
    "import shutil\n",
    "import urllib.request as request\n",
    "from contextlib import closing\n",
    "\n",
    "# first we download the Sift1M dataset\n",
    "with closing(request.urlopen('ftp://ftp.irisa.fr/local/texmex/corpus/sift.tar.gz')) as r:\n",
    "    with open('sift.tar.gz', 'wb') as f:\n",
    "        shutil.copyfileobj(r, f)\n",
    "\n",
    "!wget ftp://ftp.irisa.fr/local/texmex/corpus/sift.tar.gz"
   ]
  },
  {
   "cell_type": "code",
   "execution_count": 2,
   "metadata": {},
   "outputs": [],
   "source": [
    "import tarfile\n",
    "\n",
    "# the download leaves us with a tar.gz file, we unzip it\n",
    "tar = tarfile.open('sift.tar.gz', \"r:gz\")\n",
    "tar.extractall()\n",
    "import numpy as np\n",
    "\n",
    "# now define a function to read the fvecs file format of Sift1M dataset\n",
    "def read_fvecs(fp):\n",
    "    a = np.fromfile(fp, dtype='int32')\n",
    "    d = a[0]\n",
    "    return a.reshape(-1, d + 1)[:, 1:].copy().view('float32')\n",
    "\n",
    "wb = read_fvecs('./sift/sift_base.fvecs')  # 1M samples\n",
    "# also get some query vectors to search with\n",
    "xq = read_fvecs('./sift/sift_query.fvecs')\n",
    "# take just one query (there are many in sift_learn.fvecs)\n",
    "xq = xq[0].reshape(1, xq.shape[1])"
   ]
  },
  {
   "cell_type": "code",
   "execution_count": 37,
   "metadata": {},
   "outputs": [
    {
     "name": "stdout",
     "output_type": "stream",
     "text": [
      "D=128, k_=256\n"
     ]
    }
   ],
   "source": [
    "import faiss\n",
    "\n",
    "D = xq.shape[1]\n",
    "m = 8\n",
    "\n",
    "nbits = 8\n",
    "k_ = 2**nbits\n",
    "index = faiss.IndexPQ(D, m, nbits)\n",
    "print(f\"{D=}, {k_=}\")"
   ]
  },
  {
   "cell_type": "code",
   "execution_count": 7,
   "metadata": {},
   "outputs": [
    {
     "data": {
      "text/plain": [
       "(1000000, 128)"
      ]
     },
     "execution_count": 7,
     "metadata": {},
     "output_type": "execute_result"
    }
   ],
   "source": [
    "wb.shape"
   ]
  },
  {
   "cell_type": "code",
   "execution_count": 38,
   "metadata": {},
   "outputs": [],
   "source": [
    "index.train(wb)\n",
    "index.add(wb)"
   ]
  },
  {
   "cell_type": "code",
   "execution_count": 39,
   "metadata": {},
   "outputs": [],
   "source": [
    "k = 100\n",
    "dist, I = index.search(xq, k)"
   ]
  },
  {
   "cell_type": "code",
   "execution_count": 10,
   "metadata": {},
   "outputs": [
    {
     "name": "stdout",
     "output_type": "stream",
     "text": [
      "374 µs ± 125 µs per loop (mean ± std. dev. of 7 runs, 1,000 loops each)\n"
     ]
    }
   ],
   "source": [
    "%%timeit\n",
    "index.search(xq, k)"
   ]
  },
  {
   "cell_type": "code",
   "execution_count": 11,
   "metadata": {},
   "outputs": [],
   "source": [
    "l2_index = faiss.IndexFlatL2(D)\n",
    "l2_index.add(wb)"
   ]
  },
  {
   "cell_type": "code",
   "execution_count": 14,
   "metadata": {},
   "outputs": [],
   "source": [
    "l2_dist, l2_I = l2_index.search(xq, k)"
   ]
  },
  {
   "cell_type": "code",
   "execution_count": 40,
   "metadata": {},
   "outputs": [
    {
     "data": {
      "text/plain": [
       "38"
      ]
     },
     "execution_count": 40,
     "metadata": {},
     "output_type": "execute_result"
    }
   ],
   "source": [
    "sum([1 for i in I[0] if i in l2_I])"
   ]
  },
  {
   "cell_type": "code",
   "execution_count": 25,
   "metadata": {},
   "outputs": [
    {
     "data": {
      "text/plain": [
       "array([[3.4028235e+38, 3.4028235e+38, 3.4028235e+38, 3.4028235e+38,\n",
       "        3.4028235e+38, 3.4028235e+38, 3.4028235e+38, 3.4028235e+38,\n",
       "        3.4028235e+38, 3.4028235e+38, 3.4028235e+38, 3.4028235e+38,\n",
       "        3.4028235e+38, 3.4028235e+38, 3.4028235e+38, 3.4028235e+38,\n",
       "        3.4028235e+38, 3.4028235e+38, 3.4028235e+38, 3.4028235e+38,\n",
       "        3.4028235e+38, 3.4028235e+38, 3.4028235e+38, 3.4028235e+38,\n",
       "        3.4028235e+38, 3.4028235e+38, 3.4028235e+38, 3.4028235e+38,\n",
       "        3.4028235e+38, 3.4028235e+38, 3.4028235e+38, 3.4028235e+38,\n",
       "        3.4028235e+38, 3.4028235e+38, 3.4028235e+38, 3.4028235e+38,\n",
       "        3.4028235e+38, 3.4028235e+38, 3.4028235e+38, 3.4028235e+38,\n",
       "        3.4028235e+38, 3.4028235e+38, 3.4028235e+38, 3.4028235e+38,\n",
       "        3.4028235e+38, 3.4028235e+38, 3.4028235e+38, 3.4028235e+38,\n",
       "        3.4028235e+38, 3.4028235e+38, 3.4028235e+38, 3.4028235e+38,\n",
       "        3.4028235e+38, 3.4028235e+38, 3.4028235e+38, 3.4028235e+38,\n",
       "        3.4028235e+38, 3.4028235e+38, 3.4028235e+38, 3.4028235e+38,\n",
       "        3.4028235e+38, 3.4028235e+38, 3.4028235e+38, 3.4028235e+38,\n",
       "        3.4028235e+38, 3.4028235e+38, 3.4028235e+38, 3.4028235e+38,\n",
       "        3.4028235e+38, 3.4028235e+38, 3.4028235e+38, 3.4028235e+38,\n",
       "        3.4028235e+38, 3.4028235e+38, 3.4028235e+38, 3.4028235e+38,\n",
       "        3.4028235e+38, 3.4028235e+38, 3.4028235e+38, 3.4028235e+38,\n",
       "        3.4028235e+38, 3.4028235e+38, 3.4028235e+38, 3.4028235e+38,\n",
       "        3.4028235e+38, 3.4028235e+38, 3.4028235e+38, 3.4028235e+38,\n",
       "        3.4028235e+38, 3.4028235e+38, 3.4028235e+38, 3.4028235e+38,\n",
       "        3.4028235e+38, 3.4028235e+38, 3.4028235e+38, 3.4028235e+38,\n",
       "        3.4028235e+38, 3.4028235e+38, 3.4028235e+38, 3.4028235e+38]],\n",
       "      dtype=float32)"
      ]
     },
     "execution_count": 25,
     "metadata": {},
     "output_type": "execute_result"
    }
   ],
   "source": []
  },
  {
   "cell_type": "code",
   "execution_count": null,
   "metadata": {},
   "outputs": [],
   "source": [
    "import os\n",
    "\n",
    "def get_memory(index):\n",
    "    # write index to file\n",
    "    faiss.write_index(index, './temp.index')\n",
    "    # get file size\n",
    "    file_size = os.path.getsize('./temp.index')\n",
    "    # delete saved index\n",
    "    os.remove('./temp.index')\n",
    "    return file_size\n"
   ]
  },
  {
   "cell_type": "code",
   "execution_count": null,
   "metadata": {},
   "outputs": [],
   "source": [
    "get_memory(l2_index)"
   ]
  },
  {
   "cell_type": "markdown",
   "metadata": {},
   "source": []
  },
  {
   "cell_type": "code",
   "execution_count": null,
   "metadata": {},
   "outputs": [],
   "source": [
    "get_memory(index)"
   ]
  },
  {
   "cell_type": "code",
   "execution_count": 41,
   "metadata": {},
   "outputs": [
    {
     "name": "stdout",
     "output_type": "stream",
     "text": [
      "2**nbits=256\n"
     ]
    }
   ],
   "source": [
    "vecs = faiss.IndexFlatL2(D)\n",
    "\n",
    "nlist = 2048  # how many Voronoi cells (must be >= k* which is 2**nbits)\n",
    "nbits = 8  # when using IVF+PQ, higher nbits values are not supported\n",
    "index = faiss.IndexIVFPQ(vecs, D, nlist, m, nbits)\n",
    "print(f\"{2**nbits=}\")  # our value for nlist"
   ]
  },
  {
   "cell_type": "code",
   "execution_count": 42,
   "metadata": {},
   "outputs": [],
   "source": [
    "index.train(wb)\n",
    "index.add(wb)"
   ]
  },
  {
   "cell_type": "code",
   "execution_count": 31,
   "metadata": {},
   "outputs": [],
   "source": [
    "dist, I = index.search(xq, k)"
   ]
  },
  {
   "cell_type": "markdown",
   "metadata": {},
   "source": []
  },
  {
   "cell_type": "code",
   "execution_count": 32,
   "metadata": {},
   "outputs": [
    {
     "name": "stdout",
     "output_type": "stream",
     "text": [
      "28.2 µs ± 238 ns per loop (mean ± std. dev. of 7 runs, 10,000 loops each)\n"
     ]
    }
   ],
   "source": [
    "%%timeit\n",
    "index.search(xq, k)"
   ]
  },
  {
   "cell_type": "code",
   "execution_count": 33,
   "metadata": {},
   "outputs": [
    {
     "data": {
      "text/plain": [
       "27"
      ]
     },
     "execution_count": 33,
     "metadata": {},
     "output_type": "execute_result"
    }
   ],
   "source": [
    "sum([1 for i in I[0] if i in l2_I])"
   ]
  },
  {
   "cell_type": "code",
   "execution_count": 43,
   "metadata": {},
   "outputs": [
    {
     "data": {
      "text/plain": [
       "39"
      ]
     },
     "execution_count": 43,
     "metadata": {},
     "output_type": "execute_result"
    }
   ],
   "source": [
    "index.nprobe = 2048\n",
    "dist, I = index.search(xq, k)\n",
    "sum([1 for i in I[0] if i in l2_I])"
   ]
  },
  {
   "cell_type": "code",
   "execution_count": 44,
   "metadata": {},
   "outputs": [
    {
     "data": {
      "text/plain": [
       "27"
      ]
     },
     "execution_count": 44,
     "metadata": {},
     "output_type": "execute_result"
    }
   ],
   "source": [
    "index.nprobe = 2\n",
    "dist, I = index.search(xq, k)\n",
    "sum([1 for i in I[0] if i in l2_I])"
   ]
  }
 ],
 "metadata": {
  "kernelspec": {
   "display_name": "llm",
   "language": "python",
   "name": "python3"
  },
  "language_info": {
   "codemirror_mode": {
    "name": "ipython",
    "version": 3
   },
   "file_extension": ".py",
   "mimetype": "text/x-python",
   "name": "python",
   "nbconvert_exporter": "python",
   "pygments_lexer": "ipython3",
   "version": "3.11.8"
  }
 },
 "nbformat": 4,
 "nbformat_minor": 2
}
